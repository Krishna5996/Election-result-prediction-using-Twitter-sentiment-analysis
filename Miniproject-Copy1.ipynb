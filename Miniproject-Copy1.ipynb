{
 "cells": [
  {
   "cell_type": "code",
   "execution_count": 1,
   "metadata": {},
   "outputs": [],
   "source": [
    "#importing required modules\n",
    "import numpy as np\n",
    "import pandas as pd\n",
    "import matplotlib.pyplot as plt\n",
    "import seaborn as sns\n",
    "from textblob import TextBlob\n"
   ]
  },
  {
   "cell_type": "code",
   "execution_count": 2,
   "metadata": {},
   "outputs": [],
   "source": [
    "#creating datarames from csv files\n",
    "Trump_reviews = pd.read_csv('trump_data.csv',index_col=0)\n",
    "Biden_reviews = pd.read_csv('biden_data.csv',index_col=0)\n"
   ]
  },
  {
   "cell_type": "code",
   "execution_count": 3,
   "metadata": {},
   "outputs": [
    {
     "name": "stdout",
     "output_type": "stream",
     "text": [
      "<class 'pandas.core.frame.DataFrame'>\n",
      "Int64Index: 10000 entries, 0 to 9999\n",
      "Data columns (total 2 columns):\n",
      " #   Column  Non-Null Count  Dtype \n",
      "---  ------  --------------  ----- \n",
      " 0   text    10000 non-null  object\n",
      " 1   user    10000 non-null  object\n",
      "dtypes: object(2)\n",
      "memory usage: 234.4+ KB\n"
     ]
    }
   ],
   "source": [
    "#gives info about dataframe\n",
    "Trump_reviews.info()"
   ]
  },
  {
   "cell_type": "code",
   "execution_count": 4,
   "metadata": {},
   "outputs": [
    {
     "name": "stdout",
     "output_type": "stream",
     "text": [
      "<class 'pandas.core.frame.DataFrame'>\n",
      "Int64Index: 10000 entries, 0 to 9999\n",
      "Data columns (total 2 columns):\n",
      " #   Column  Non-Null Count  Dtype \n",
      "---  ------  --------------  ----- \n",
      " 0   text    10000 non-null  object\n",
      " 1   user    10000 non-null  object\n",
      "dtypes: object(2)\n",
      "memory usage: 234.4+ KB\n"
     ]
    }
   ],
   "source": [
    "Biden_reviews.info()"
   ]
  },
  {
   "cell_type": "code",
   "execution_count": 5,
   "metadata": {},
   "outputs": [
    {
     "data": {
      "text/html": [
       "<div>\n",
       "<style scoped>\n",
       "    .dataframe tbody tr th:only-of-type {\n",
       "        vertical-align: middle;\n",
       "    }\n",
       "\n",
       "    .dataframe tbody tr th {\n",
       "        vertical-align: top;\n",
       "    }\n",
       "\n",
       "    .dataframe thead th {\n",
       "        text-align: right;\n",
       "    }\n",
       "</style>\n",
       "<table border=\"1\" class=\"dataframe\">\n",
       "  <thead>\n",
       "    <tr style=\"text-align: right;\">\n",
       "      <th></th>\n",
       "      <th>text</th>\n",
       "      <th>user</th>\n",
       "    </tr>\n",
       "  </thead>\n",
       "  <tbody>\n",
       "    <tr>\n",
       "      <th>0</th>\n",
       "      <td>RT @itsJeffTiedrich: @realDonaldTrump imagine ...</td>\n",
       "      <td>NikKimmy</td>\n",
       "    </tr>\n",
       "    <tr>\n",
       "      <th>1</th>\n",
       "      <td>@realDonaldTrump https://t.co/qsPFJUGc6d</td>\n",
       "      <td>grandda20593882</td>\n",
       "    </tr>\n",
       "    <tr>\n",
       "      <th>2</th>\n",
       "      <td>@realDonaldTrump What the hell are you talking...</td>\n",
       "      <td>DrKweku</td>\n",
       "    </tr>\n",
       "    <tr>\n",
       "      <th>3</th>\n",
       "      <td>@realDonaldTrump @cspan Joe Biden’s town hall-...</td>\n",
       "      <td>MelieVMelieV</td>\n",
       "    </tr>\n",
       "    <tr>\n",
       "      <th>4</th>\n",
       "      <td>@realDonaldTrump only follows 50 people on Twi...</td>\n",
       "      <td>Yamnek</td>\n",
       "    </tr>\n",
       "  </tbody>\n",
       "</table>\n",
       "</div>"
      ],
      "text/plain": [
       "                                                text             user\n",
       "0  RT @itsJeffTiedrich: @realDonaldTrump imagine ...         NikKimmy\n",
       "1           @realDonaldTrump https://t.co/qsPFJUGc6d  grandda20593882\n",
       "2  @realDonaldTrump What the hell are you talking...          DrKweku\n",
       "3  @realDonaldTrump @cspan Joe Biden’s town hall-...     MelieVMelieV\n",
       "4  @realDonaldTrump only follows 50 people on Twi...           Yamnek"
      ]
     },
     "execution_count": 5,
     "metadata": {},
     "output_type": "execute_result"
    }
   ],
   "source": [
    "#gives top 5 rows by default\n",
    "Trump_reviews.head()\n"
   ]
  },
  {
   "cell_type": "code",
   "execution_count": 6,
   "metadata": {},
   "outputs": [],
   "source": [
    "#adding win column to Trump_reviews dataframe with value \"Trump\" in all row\n",
    "Trump_reviews['win']='Trump'\n"
   ]
  },
  {
   "cell_type": "code",
   "execution_count": 7,
   "metadata": {},
   "outputs": [
    {
     "data": {
      "text/html": [
       "<div>\n",
       "<style scoped>\n",
       "    .dataframe tbody tr th:only-of-type {\n",
       "        vertical-align: middle;\n",
       "    }\n",
       "\n",
       "    .dataframe tbody tr th {\n",
       "        vertical-align: top;\n",
       "    }\n",
       "\n",
       "    .dataframe thead th {\n",
       "        text-align: right;\n",
       "    }\n",
       "</style>\n",
       "<table border=\"1\" class=\"dataframe\">\n",
       "  <thead>\n",
       "    <tr style=\"text-align: right;\">\n",
       "      <th></th>\n",
       "      <th>text</th>\n",
       "      <th>user</th>\n",
       "      <th>win</th>\n",
       "    </tr>\n",
       "  </thead>\n",
       "  <tbody>\n",
       "    <tr>\n",
       "      <th>0</th>\n",
       "      <td>RT @itsJeffTiedrich: @realDonaldTrump imagine ...</td>\n",
       "      <td>NikKimmy</td>\n",
       "      <td>Trump</td>\n",
       "    </tr>\n",
       "    <tr>\n",
       "      <th>1</th>\n",
       "      <td>@realDonaldTrump https://t.co/qsPFJUGc6d</td>\n",
       "      <td>grandda20593882</td>\n",
       "      <td>Trump</td>\n",
       "    </tr>\n",
       "    <tr>\n",
       "      <th>2</th>\n",
       "      <td>@realDonaldTrump What the hell are you talking...</td>\n",
       "      <td>DrKweku</td>\n",
       "      <td>Trump</td>\n",
       "    </tr>\n",
       "    <tr>\n",
       "      <th>3</th>\n",
       "      <td>@realDonaldTrump @cspan Joe Biden’s town hall-...</td>\n",
       "      <td>MelieVMelieV</td>\n",
       "      <td>Trump</td>\n",
       "    </tr>\n",
       "    <tr>\n",
       "      <th>4</th>\n",
       "      <td>@realDonaldTrump only follows 50 people on Twi...</td>\n",
       "      <td>Yamnek</td>\n",
       "      <td>Trump</td>\n",
       "    </tr>\n",
       "  </tbody>\n",
       "</table>\n",
       "</div>"
      ],
      "text/plain": [
       "                                                text             user    win\n",
       "0  RT @itsJeffTiedrich: @realDonaldTrump imagine ...         NikKimmy  Trump\n",
       "1           @realDonaldTrump https://t.co/qsPFJUGc6d  grandda20593882  Trump\n",
       "2  @realDonaldTrump What the hell are you talking...          DrKweku  Trump\n",
       "3  @realDonaldTrump @cspan Joe Biden’s town hall-...     MelieVMelieV  Trump\n",
       "4  @realDonaldTrump only follows 50 people on Twi...           Yamnek  Trump"
      ]
     },
     "execution_count": 7,
     "metadata": {},
     "output_type": "execute_result"
    }
   ],
   "source": [
    "Trump_reviews.head()"
   ]
  },
  {
   "cell_type": "code",
   "execution_count": 8,
   "metadata": {},
   "outputs": [],
   "source": [
    "#adding win column to Biden_reviews dataframe with value \"Biden\" in all row\n",
    "Biden_reviews['win']='Biden'"
   ]
  },
  {
   "cell_type": "code",
   "execution_count": 9,
   "metadata": {},
   "outputs": [
    {
     "data": {
      "text/html": [
       "<div>\n",
       "<style scoped>\n",
       "    .dataframe tbody tr th:only-of-type {\n",
       "        vertical-align: middle;\n",
       "    }\n",
       "\n",
       "    .dataframe tbody tr th {\n",
       "        vertical-align: top;\n",
       "    }\n",
       "\n",
       "    .dataframe thead th {\n",
       "        text-align: right;\n",
       "    }\n",
       "</style>\n",
       "<table border=\"1\" class=\"dataframe\">\n",
       "  <thead>\n",
       "    <tr style=\"text-align: right;\">\n",
       "      <th></th>\n",
       "      <th>text</th>\n",
       "      <th>user</th>\n",
       "      <th>win</th>\n",
       "    </tr>\n",
       "  </thead>\n",
       "  <tbody>\n",
       "    <tr>\n",
       "      <th>0</th>\n",
       "      <td>RT @Auxyan: @JoeBiden Like the other Communist...</td>\n",
       "      <td>Auxyan</td>\n",
       "      <td>Biden</td>\n",
       "    </tr>\n",
       "    <tr>\n",
       "      <th>1</th>\n",
       "      <td>@JoeBiden Like the other Communist Dictators o...</td>\n",
       "      <td>Auxyan</td>\n",
       "      <td>Biden</td>\n",
       "    </tr>\n",
       "    <tr>\n",
       "      <th>2</th>\n",
       "      <td>@JoeBiden How about a statement of Hunter's co...</td>\n",
       "      <td>DenisKaluku</td>\n",
       "      <td>Biden</td>\n",
       "    </tr>\n",
       "    <tr>\n",
       "      <th>3</th>\n",
       "      <td>@JoeBiden https://t.co/pwuhRa1Bv8</td>\n",
       "      <td>CM23623745</td>\n",
       "      <td>Biden</td>\n",
       "    </tr>\n",
       "    <tr>\n",
       "      <th>4</th>\n",
       "      <td>@JoeBiden https://t.co/KnpHIfa2xr</td>\n",
       "      <td>nosnevel</td>\n",
       "      <td>Biden</td>\n",
       "    </tr>\n",
       "  </tbody>\n",
       "</table>\n",
       "</div>"
      ],
      "text/plain": [
       "                                                text         user    win\n",
       "0  RT @Auxyan: @JoeBiden Like the other Communist...       Auxyan  Biden\n",
       "1  @JoeBiden Like the other Communist Dictators o...       Auxyan  Biden\n",
       "2  @JoeBiden How about a statement of Hunter's co...  DenisKaluku  Biden\n",
       "3                  @JoeBiden https://t.co/pwuhRa1Bv8   CM23623745  Biden\n",
       "4                  @JoeBiden https://t.co/KnpHIfa2xr     nosnevel  Biden"
      ]
     },
     "execution_count": 9,
     "metadata": {},
     "output_type": "execute_result"
    }
   ],
   "source": [
    "Biden_reviews.head()"
   ]
  },
  {
   "cell_type": "code",
   "execution_count": 10,
   "metadata": {},
   "outputs": [],
   "source": [
    "#concatinating 2 dataframes. second dataframe will be added after last row of 1st dataframe\n",
    "df=pd.concat([Trump_reviews,Biden_reviews],axis=0)"
   ]
  },
  {
   "cell_type": "code",
   "execution_count": 11,
   "metadata": {},
   "outputs": [
    {
     "data": {
      "text/html": [
       "<div>\n",
       "<style scoped>\n",
       "    .dataframe tbody tr th:only-of-type {\n",
       "        vertical-align: middle;\n",
       "    }\n",
       "\n",
       "    .dataframe tbody tr th {\n",
       "        vertical-align: top;\n",
       "    }\n",
       "\n",
       "    .dataframe thead th {\n",
       "        text-align: right;\n",
       "    }\n",
       "</style>\n",
       "<table border=\"1\" class=\"dataframe\">\n",
       "  <thead>\n",
       "    <tr style=\"text-align: right;\">\n",
       "      <th></th>\n",
       "      <th>text</th>\n",
       "      <th>user</th>\n",
       "      <th>win</th>\n",
       "    </tr>\n",
       "  </thead>\n",
       "  <tbody>\n",
       "    <tr>\n",
       "      <th>0</th>\n",
       "      <td>RT @itsJeffTiedrich: @realDonaldTrump imagine ...</td>\n",
       "      <td>NikKimmy</td>\n",
       "      <td>Trump</td>\n",
       "    </tr>\n",
       "    <tr>\n",
       "      <th>1</th>\n",
       "      <td>@realDonaldTrump https://t.co/qsPFJUGc6d</td>\n",
       "      <td>grandda20593882</td>\n",
       "      <td>Trump</td>\n",
       "    </tr>\n",
       "    <tr>\n",
       "      <th>2</th>\n",
       "      <td>@realDonaldTrump What the hell are you talking...</td>\n",
       "      <td>DrKweku</td>\n",
       "      <td>Trump</td>\n",
       "    </tr>\n",
       "    <tr>\n",
       "      <th>3</th>\n",
       "      <td>@realDonaldTrump @cspan Joe Biden’s town hall-...</td>\n",
       "      <td>MelieVMelieV</td>\n",
       "      <td>Trump</td>\n",
       "    </tr>\n",
       "    <tr>\n",
       "      <th>4</th>\n",
       "      <td>@realDonaldTrump only follows 50 people on Twi...</td>\n",
       "      <td>Yamnek</td>\n",
       "      <td>Trump</td>\n",
       "    </tr>\n",
       "    <tr>\n",
       "      <th>...</th>\n",
       "      <td>...</td>\n",
       "      <td>...</td>\n",
       "      <td>...</td>\n",
       "    </tr>\n",
       "    <tr>\n",
       "      <th>9995</th>\n",
       "      <td>@JoeBiden https://t.co/HQVPA35670</td>\n",
       "      <td>kimjgoodwin</td>\n",
       "      <td>Biden</td>\n",
       "    </tr>\n",
       "    <tr>\n",
       "      <th>9996</th>\n",
       "      <td>RT @DesnoyersScott: @JoeBiden I will be workin...</td>\n",
       "      <td>rockmanX103</td>\n",
       "      <td>Biden</td>\n",
       "    </tr>\n",
       "    <tr>\n",
       "      <th>9997</th>\n",
       "      <td>@JoeBiden Biden is ok with Fracking, Biden is ...</td>\n",
       "      <td>AdamdeCosta4</td>\n",
       "      <td>Biden</td>\n",
       "    </tr>\n",
       "    <tr>\n",
       "      <th>9998</th>\n",
       "      <td>@JoeBiden And don't forget to vote for Trump/P...</td>\n",
       "      <td>No_On_Prop16</td>\n",
       "      <td>Biden</td>\n",
       "    </tr>\n",
       "    <tr>\n",
       "      <th>9999</th>\n",
       "      <td>@JoeBiden  remember be a legend not a hero loo...</td>\n",
       "      <td>BielloMichael</td>\n",
       "      <td>Biden</td>\n",
       "    </tr>\n",
       "  </tbody>\n",
       "</table>\n",
       "<p>20000 rows × 3 columns</p>\n",
       "</div>"
      ],
      "text/plain": [
       "                                                   text             user  \\\n",
       "0     RT @itsJeffTiedrich: @realDonaldTrump imagine ...         NikKimmy   \n",
       "1              @realDonaldTrump https://t.co/qsPFJUGc6d  grandda20593882   \n",
       "2     @realDonaldTrump What the hell are you talking...          DrKweku   \n",
       "3     @realDonaldTrump @cspan Joe Biden’s town hall-...     MelieVMelieV   \n",
       "4     @realDonaldTrump only follows 50 people on Twi...           Yamnek   \n",
       "...                                                 ...              ...   \n",
       "9995                  @JoeBiden https://t.co/HQVPA35670      kimjgoodwin   \n",
       "9996  RT @DesnoyersScott: @JoeBiden I will be workin...      rockmanX103   \n",
       "9997  @JoeBiden Biden is ok with Fracking, Biden is ...     AdamdeCosta4   \n",
       "9998  @JoeBiden And don't forget to vote for Trump/P...     No_On_Prop16   \n",
       "9999  @JoeBiden  remember be a legend not a hero loo...    BielloMichael   \n",
       "\n",
       "        win  \n",
       "0     Trump  \n",
       "1     Trump  \n",
       "2     Trump  \n",
       "3     Trump  \n",
       "4     Trump  \n",
       "...     ...  \n",
       "9995  Biden  \n",
       "9996  Biden  \n",
       "9997  Biden  \n",
       "9998  Biden  \n",
       "9999  Biden  \n",
       "\n",
       "[20000 rows x 3 columns]"
      ]
     },
     "execution_count": 11,
     "metadata": {},
     "output_type": "execute_result"
    }
   ],
   "source": [
    "df"
   ]
  },
  {
   "cell_type": "code",
   "execution_count": 12,
   "metadata": {},
   "outputs": [],
   "source": [
    "s='this is  restaurent'"
   ]
  },
  {
   "cell_type": "code",
   "execution_count": 13,
   "metadata": {},
   "outputs": [
    {
     "data": {
      "text/plain": [
       "0.0"
      ]
     },
     "execution_count": 13,
     "metadata": {},
     "output_type": "execute_result"
    }
   ],
   "source": [
    "TextBlob(s).sentiment.polarity"
   ]
  },
  {
   "cell_type": "code",
   "execution_count": null,
   "metadata": {},
   "outputs": [],
   "source": []
  },
  {
   "cell_type": "code",
   "execution_count": 14,
   "metadata": {},
   "outputs": [],
   "source": [
    "#adding polarity for tweets whose polarity >0\n",
    "def polarity(review):\n",
    "    if(TextBlob(review).sentiment.polarity>0):\n",
    "        return TextBlob(review).sentiment.polarity\n",
    "    "
   ]
  },
  {
   "cell_type": "code",
   "execution_count": 15,
   "metadata": {},
   "outputs": [],
   "source": [
    "#add polarity column to df with polarity value for each tweet\n",
    "df['polarity'] = df['text'].apply(polarity)\n"
   ]
  },
  {
   "cell_type": "code",
   "execution_count": 16,
   "metadata": {},
   "outputs": [
    {
     "data": {
      "text/html": [
       "<div>\n",
       "<style scoped>\n",
       "    .dataframe tbody tr th:only-of-type {\n",
       "        vertical-align: middle;\n",
       "    }\n",
       "\n",
       "    .dataframe tbody tr th {\n",
       "        vertical-align: top;\n",
       "    }\n",
       "\n",
       "    .dataframe thead th {\n",
       "        text-align: right;\n",
       "    }\n",
       "</style>\n",
       "<table border=\"1\" class=\"dataframe\">\n",
       "  <thead>\n",
       "    <tr style=\"text-align: right;\">\n",
       "      <th></th>\n",
       "      <th>text</th>\n",
       "      <th>user</th>\n",
       "      <th>win</th>\n",
       "      <th>polarity</th>\n",
       "    </tr>\n",
       "  </thead>\n",
       "  <tbody>\n",
       "    <tr>\n",
       "      <th>0</th>\n",
       "      <td>RT @itsJeffTiedrich: @realDonaldTrump imagine ...</td>\n",
       "      <td>NikKimmy</td>\n",
       "      <td>Trump</td>\n",
       "      <td>NaN</td>\n",
       "    </tr>\n",
       "    <tr>\n",
       "      <th>1</th>\n",
       "      <td>@realDonaldTrump https://t.co/qsPFJUGc6d</td>\n",
       "      <td>grandda20593882</td>\n",
       "      <td>Trump</td>\n",
       "      <td>NaN</td>\n",
       "    </tr>\n",
       "    <tr>\n",
       "      <th>2</th>\n",
       "      <td>@realDonaldTrump What the hell are you talking...</td>\n",
       "      <td>DrKweku</td>\n",
       "      <td>Trump</td>\n",
       "      <td>NaN</td>\n",
       "    </tr>\n",
       "    <tr>\n",
       "      <th>3</th>\n",
       "      <td>@realDonaldTrump @cspan Joe Biden’s town hall-...</td>\n",
       "      <td>MelieVMelieV</td>\n",
       "      <td>Trump</td>\n",
       "      <td>NaN</td>\n",
       "    </tr>\n",
       "    <tr>\n",
       "      <th>4</th>\n",
       "      <td>@realDonaldTrump only follows 50 people on Twi...</td>\n",
       "      <td>Yamnek</td>\n",
       "      <td>Trump</td>\n",
       "      <td>0.066667</td>\n",
       "    </tr>\n",
       "  </tbody>\n",
       "</table>\n",
       "</div>"
      ],
      "text/plain": [
       "                                                text             user    win  \\\n",
       "0  RT @itsJeffTiedrich: @realDonaldTrump imagine ...         NikKimmy  Trump   \n",
       "1           @realDonaldTrump https://t.co/qsPFJUGc6d  grandda20593882  Trump   \n",
       "2  @realDonaldTrump What the hell are you talking...          DrKweku  Trump   \n",
       "3  @realDonaldTrump @cspan Joe Biden’s town hall-...     MelieVMelieV  Trump   \n",
       "4  @realDonaldTrump only follows 50 people on Twi...           Yamnek  Trump   \n",
       "\n",
       "   polarity  \n",
       "0       NaN  \n",
       "1       NaN  \n",
       "2       NaN  \n",
       "3       NaN  \n",
       "4  0.066667  "
      ]
     },
     "execution_count": 16,
     "metadata": {},
     "output_type": "execute_result"
    }
   ],
   "source": [
    "df.head()"
   ]
  },
  {
   "cell_type": "code",
   "execution_count": 17,
   "metadata": {},
   "outputs": [
    {
     "name": "stdout",
     "output_type": "stream",
     "text": [
      "<class 'pandas.core.frame.DataFrame'>\n",
      "Int64Index: 20000 entries, 0 to 9999\n",
      "Data columns (total 4 columns):\n",
      " #   Column    Non-Null Count  Dtype  \n",
      "---  ------    --------------  -----  \n",
      " 0   text      20000 non-null  object \n",
      " 1   user      20000 non-null  object \n",
      " 2   win       20000 non-null  object \n",
      " 3   polarity  5352 non-null   float64\n",
      "dtypes: float64(1), object(3)\n",
      "memory usage: 781.2+ KB\n"
     ]
    }
   ],
   "source": [
    "df.info()"
   ]
  },
  {
   "cell_type": "code",
   "execution_count": 18,
   "metadata": {},
   "outputs": [
    {
     "data": {
      "text/plain": [
       "text            0\n",
       "user            0\n",
       "win             0\n",
       "polarity    14648\n",
       "dtype: int64"
      ]
     },
     "execution_count": 18,
     "metadata": {},
     "output_type": "execute_result"
    }
   ],
   "source": [
    "#counting null values in all columns\n",
    "df.isnull().sum()"
   ]
  },
  {
   "cell_type": "code",
   "execution_count": 19,
   "metadata": {},
   "outputs": [],
   "source": [
    "#drop all rows where null value is present\n",
    "df_after_dropna=df.dropna()"
   ]
  },
  {
   "cell_type": "code",
   "execution_count": 20,
   "metadata": {},
   "outputs": [
    {
     "data": {
      "text/html": [
       "<div>\n",
       "<style scoped>\n",
       "    .dataframe tbody tr th:only-of-type {\n",
       "        vertical-align: middle;\n",
       "    }\n",
       "\n",
       "    .dataframe tbody tr th {\n",
       "        vertical-align: top;\n",
       "    }\n",
       "\n",
       "    .dataframe thead th {\n",
       "        text-align: right;\n",
       "    }\n",
       "</style>\n",
       "<table border=\"1\" class=\"dataframe\">\n",
       "  <thead>\n",
       "    <tr style=\"text-align: right;\">\n",
       "      <th></th>\n",
       "      <th>text</th>\n",
       "      <th>user</th>\n",
       "      <th>win</th>\n",
       "      <th>polarity</th>\n",
       "    </tr>\n",
       "  </thead>\n",
       "  <tbody>\n",
       "    <tr>\n",
       "      <th>4</th>\n",
       "      <td>@realDonaldTrump only follows 50 people on Twi...</td>\n",
       "      <td>Yamnek</td>\n",
       "      <td>Trump</td>\n",
       "      <td>0.066667</td>\n",
       "    </tr>\n",
       "    <tr>\n",
       "      <th>8</th>\n",
       "      <td>RT @officialjtw: @realDonaldTrump first vote e...</td>\n",
       "      <td>BNailguy</td>\n",
       "      <td>Trump</td>\n",
       "      <td>0.406250</td>\n",
       "    </tr>\n",
       "    <tr>\n",
       "      <th>10</th>\n",
       "      <td>@realDonaldTrump Vote for the better man: vote...</td>\n",
       "      <td>CharResists</td>\n",
       "      <td>Trump</td>\n",
       "      <td>0.500000</td>\n",
       "    </tr>\n",
       "    <tr>\n",
       "      <th>11</th>\n",
       "      <td>RT @DanielleCandela: @realDonaldTrump @TheBaby...</td>\n",
       "      <td>PattyRoth18</td>\n",
       "      <td>Trump</td>\n",
       "      <td>0.250000</td>\n",
       "    </tr>\n",
       "    <tr>\n",
       "      <th>13</th>\n",
       "      <td>@realDonaldTrump #DodgyDonald  Covid-19 super ...</td>\n",
       "      <td>OneWorldOrder</td>\n",
       "      <td>Trump</td>\n",
       "      <td>0.333333</td>\n",
       "    </tr>\n",
       "    <tr>\n",
       "      <th>...</th>\n",
       "      <td>...</td>\n",
       "      <td>...</td>\n",
       "      <td>...</td>\n",
       "      <td>...</td>\n",
       "    </tr>\n",
       "    <tr>\n",
       "      <th>9970</th>\n",
       "      <td>@JoeBiden Trump has denounced white supremacy ...</td>\n",
       "      <td>ontheroad0917</td>\n",
       "      <td>Biden</td>\n",
       "      <td>0.312500</td>\n",
       "    </tr>\n",
       "    <tr>\n",
       "      <th>9975</th>\n",
       "      <td>RT @ShironRedshift: @JoeBiden Biden's sons wer...</td>\n",
       "      <td>AntarianRani</td>\n",
       "      <td>Biden</td>\n",
       "      <td>0.433333</td>\n",
       "    </tr>\n",
       "    <tr>\n",
       "      <th>9991</th>\n",
       "      <td>@JoeBiden @KamalaHarris :-)</td>\n",
       "      <td>GloriaL93215187</td>\n",
       "      <td>Biden</td>\n",
       "      <td>0.500000</td>\n",
       "    </tr>\n",
       "    <tr>\n",
       "      <th>9996</th>\n",
       "      <td>RT @DesnoyersScott: @JoeBiden I will be workin...</td>\n",
       "      <td>rockmanX103</td>\n",
       "      <td>Biden</td>\n",
       "      <td>0.400000</td>\n",
       "    </tr>\n",
       "    <tr>\n",
       "      <th>9997</th>\n",
       "      <td>@JoeBiden Biden is ok with Fracking, Biden is ...</td>\n",
       "      <td>AdamdeCosta4</td>\n",
       "      <td>Biden</td>\n",
       "      <td>0.225000</td>\n",
       "    </tr>\n",
       "  </tbody>\n",
       "</table>\n",
       "<p>5352 rows × 4 columns</p>\n",
       "</div>"
      ],
      "text/plain": [
       "                                                   text             user  \\\n",
       "4     @realDonaldTrump only follows 50 people on Twi...           Yamnek   \n",
       "8     RT @officialjtw: @realDonaldTrump first vote e...         BNailguy   \n",
       "10    @realDonaldTrump Vote for the better man: vote...      CharResists   \n",
       "11    RT @DanielleCandela: @realDonaldTrump @TheBaby...      PattyRoth18   \n",
       "13    @realDonaldTrump #DodgyDonald  Covid-19 super ...    OneWorldOrder   \n",
       "...                                                 ...              ...   \n",
       "9970  @JoeBiden Trump has denounced white supremacy ...    ontheroad0917   \n",
       "9975  RT @ShironRedshift: @JoeBiden Biden's sons wer...     AntarianRani   \n",
       "9991                        @JoeBiden @KamalaHarris :-)  GloriaL93215187   \n",
       "9996  RT @DesnoyersScott: @JoeBiden I will be workin...      rockmanX103   \n",
       "9997  @JoeBiden Biden is ok with Fracking, Biden is ...     AdamdeCosta4   \n",
       "\n",
       "        win  polarity  \n",
       "4     Trump  0.066667  \n",
       "8     Trump  0.406250  \n",
       "10    Trump  0.500000  \n",
       "11    Trump  0.250000  \n",
       "13    Trump  0.333333  \n",
       "...     ...       ...  \n",
       "9970  Biden  0.312500  \n",
       "9975  Biden  0.433333  \n",
       "9991  Biden  0.500000  \n",
       "9996  Biden  0.400000  \n",
       "9997  Biden  0.225000  \n",
       "\n",
       "[5352 rows x 4 columns]"
      ]
     },
     "execution_count": 20,
     "metadata": {},
     "output_type": "execute_result"
    }
   ],
   "source": [
    "df_after_dropna"
   ]
  },
  {
   "cell_type": "code",
   "execution_count": 21,
   "metadata": {},
   "outputs": [],
   "source": [
    "from sklearn.preprocessing import LabelEncoder"
   ]
  },
  {
   "cell_type": "code",
   "execution_count": 22,
   "metadata": {},
   "outputs": [],
   "source": [
    "le=LabelEncoder()"
   ]
  },
  {
   "cell_type": "code",
   "execution_count": 23,
   "metadata": {},
   "outputs": [
    {
     "name": "stderr",
     "output_type": "stream",
     "text": [
      "c:\\users\\asus\\appdata\\local\\programs\\python\\python36\\lib\\site-packages\\ipykernel_launcher.py:2: SettingWithCopyWarning: \n",
      "A value is trying to be set on a copy of a slice from a DataFrame.\n",
      "Try using .loc[row_indexer,col_indexer] = value instead\n",
      "\n",
      "See the caveats in the documentation: https://pandas.pydata.org/pandas-docs/stable/user_guide/indexing.html#returning-a-view-versus-a-copy\n",
      "  \n"
     ]
    }
   ],
   "source": [
    "#converting textual data to neumerical data\n",
    "df_after_dropna['win']=le.fit_transform(df_after_dropna.win)"
   ]
  },
  {
   "cell_type": "code",
   "execution_count": 24,
   "metadata": {},
   "outputs": [
    {
     "data": {
      "text/html": [
       "<div>\n",
       "<style scoped>\n",
       "    .dataframe tbody tr th:only-of-type {\n",
       "        vertical-align: middle;\n",
       "    }\n",
       "\n",
       "    .dataframe tbody tr th {\n",
       "        vertical-align: top;\n",
       "    }\n",
       "\n",
       "    .dataframe thead th {\n",
       "        text-align: right;\n",
       "    }\n",
       "</style>\n",
       "<table border=\"1\" class=\"dataframe\">\n",
       "  <thead>\n",
       "    <tr style=\"text-align: right;\">\n",
       "      <th></th>\n",
       "      <th>text</th>\n",
       "      <th>user</th>\n",
       "      <th>win</th>\n",
       "      <th>polarity</th>\n",
       "    </tr>\n",
       "  </thead>\n",
       "  <tbody>\n",
       "    <tr>\n",
       "      <th>4</th>\n",
       "      <td>@realDonaldTrump only follows 50 people on Twi...</td>\n",
       "      <td>Yamnek</td>\n",
       "      <td>1</td>\n",
       "      <td>0.066667</td>\n",
       "    </tr>\n",
       "    <tr>\n",
       "      <th>8</th>\n",
       "      <td>RT @officialjtw: @realDonaldTrump first vote e...</td>\n",
       "      <td>BNailguy</td>\n",
       "      <td>1</td>\n",
       "      <td>0.406250</td>\n",
       "    </tr>\n",
       "    <tr>\n",
       "      <th>10</th>\n",
       "      <td>@realDonaldTrump Vote for the better man: vote...</td>\n",
       "      <td>CharResists</td>\n",
       "      <td>1</td>\n",
       "      <td>0.500000</td>\n",
       "    </tr>\n",
       "    <tr>\n",
       "      <th>11</th>\n",
       "      <td>RT @DanielleCandela: @realDonaldTrump @TheBaby...</td>\n",
       "      <td>PattyRoth18</td>\n",
       "      <td>1</td>\n",
       "      <td>0.250000</td>\n",
       "    </tr>\n",
       "    <tr>\n",
       "      <th>13</th>\n",
       "      <td>@realDonaldTrump #DodgyDonald  Covid-19 super ...</td>\n",
       "      <td>OneWorldOrder</td>\n",
       "      <td>1</td>\n",
       "      <td>0.333333</td>\n",
       "    </tr>\n",
       "    <tr>\n",
       "      <th>...</th>\n",
       "      <td>...</td>\n",
       "      <td>...</td>\n",
       "      <td>...</td>\n",
       "      <td>...</td>\n",
       "    </tr>\n",
       "    <tr>\n",
       "      <th>9970</th>\n",
       "      <td>@JoeBiden Trump has denounced white supremacy ...</td>\n",
       "      <td>ontheroad0917</td>\n",
       "      <td>0</td>\n",
       "      <td>0.312500</td>\n",
       "    </tr>\n",
       "    <tr>\n",
       "      <th>9975</th>\n",
       "      <td>RT @ShironRedshift: @JoeBiden Biden's sons wer...</td>\n",
       "      <td>AntarianRani</td>\n",
       "      <td>0</td>\n",
       "      <td>0.433333</td>\n",
       "    </tr>\n",
       "    <tr>\n",
       "      <th>9991</th>\n",
       "      <td>@JoeBiden @KamalaHarris :-)</td>\n",
       "      <td>GloriaL93215187</td>\n",
       "      <td>0</td>\n",
       "      <td>0.500000</td>\n",
       "    </tr>\n",
       "    <tr>\n",
       "      <th>9996</th>\n",
       "      <td>RT @DesnoyersScott: @JoeBiden I will be workin...</td>\n",
       "      <td>rockmanX103</td>\n",
       "      <td>0</td>\n",
       "      <td>0.400000</td>\n",
       "    </tr>\n",
       "    <tr>\n",
       "      <th>9997</th>\n",
       "      <td>@JoeBiden Biden is ok with Fracking, Biden is ...</td>\n",
       "      <td>AdamdeCosta4</td>\n",
       "      <td>0</td>\n",
       "      <td>0.225000</td>\n",
       "    </tr>\n",
       "  </tbody>\n",
       "</table>\n",
       "<p>5352 rows × 4 columns</p>\n",
       "</div>"
      ],
      "text/plain": [
       "                                                   text             user  win  \\\n",
       "4     @realDonaldTrump only follows 50 people on Twi...           Yamnek    1   \n",
       "8     RT @officialjtw: @realDonaldTrump first vote e...         BNailguy    1   \n",
       "10    @realDonaldTrump Vote for the better man: vote...      CharResists    1   \n",
       "11    RT @DanielleCandela: @realDonaldTrump @TheBaby...      PattyRoth18    1   \n",
       "13    @realDonaldTrump #DodgyDonald  Covid-19 super ...    OneWorldOrder    1   \n",
       "...                                                 ...              ...  ...   \n",
       "9970  @JoeBiden Trump has denounced white supremacy ...    ontheroad0917    0   \n",
       "9975  RT @ShironRedshift: @JoeBiden Biden's sons wer...     AntarianRani    0   \n",
       "9991                        @JoeBiden @KamalaHarris :-)  GloriaL93215187    0   \n",
       "9996  RT @DesnoyersScott: @JoeBiden I will be workin...      rockmanX103    0   \n",
       "9997  @JoeBiden Biden is ok with Fracking, Biden is ...     AdamdeCosta4    0   \n",
       "\n",
       "      polarity  \n",
       "4     0.066667  \n",
       "8     0.406250  \n",
       "10    0.500000  \n",
       "11    0.250000  \n",
       "13    0.333333  \n",
       "...        ...  \n",
       "9970  0.312500  \n",
       "9975  0.433333  \n",
       "9991  0.500000  \n",
       "9996  0.400000  \n",
       "9997  0.225000  \n",
       "\n",
       "[5352 rows x 4 columns]"
      ]
     },
     "execution_count": 24,
     "metadata": {},
     "output_type": "execute_result"
    }
   ],
   "source": [
    "df_after_dropna"
   ]
  },
  {
   "cell_type": "code",
   "execution_count": 25,
   "metadata": {},
   "outputs": [],
   "source": [
    "#taking independent variable x\n",
    "x=df_after_dropna[['polarity']]"
   ]
  },
  {
   "cell_type": "code",
   "execution_count": 26,
   "metadata": {},
   "outputs": [
    {
     "data": {
      "text/plain": [
       "pandas.core.frame.DataFrame"
      ]
     },
     "execution_count": 26,
     "metadata": {},
     "output_type": "execute_result"
    }
   ],
   "source": [
    "type(x)"
   ]
  },
  {
   "cell_type": "code",
   "execution_count": 27,
   "metadata": {},
   "outputs": [],
   "source": [
    "#taking  dependent variable y\n",
    "y=df_after_dropna[['win']]"
   ]
  },
  {
   "cell_type": "code",
   "execution_count": 28,
   "metadata": {},
   "outputs": [],
   "source": [
    "\n",
    "from sklearn.model_selection import train_test_split"
   ]
  },
  {
   "cell_type": "code",
   "execution_count": 29,
   "metadata": {},
   "outputs": [],
   "source": [
    "#splitting dataset into testing (20%) and training (80%)\n",
    "x_train, x_test,y_train,y_test=train_test_split(x,y,test_size=0.2)"
   ]
  },
  {
   "cell_type": "code",
   "execution_count": 30,
   "metadata": {},
   "outputs": [
    {
     "name": "stdout",
     "output_type": "stream",
     "text": [
      "Accuracy in percentage is 53.97\n"
     ]
    },
    {
     "name": "stderr",
     "output_type": "stream",
     "text": [
      "c:\\users\\asus\\appdata\\local\\programs\\python\\python36\\lib\\site-packages\\sklearn\\utils\\validation.py:63: DataConversionWarning: A column-vector y was passed when a 1d array was expected. Please change the shape of y to (n_samples, ), for example using ravel().\n",
      "  return f(*args, **kwargs)\n"
     ]
    }
   ],
   "source": [
    "#Building logistic regression model and evaluating score \n",
    "from sklearn.linear_model import LogisticRegression\n",
    "model=LogisticRegression()\n",
    "model.fit(x_train,y_train)\n",
    "predict=model.predict(x_test)\n",
    "from sklearn.metrics import accuracy_score\n",
    "score=accuracy_score(predict,y_test)*100\n",
    "print(\"Accuracy in percentage is %.2f\"%score)"
   ]
  },
  {
   "cell_type": "code",
   "execution_count": 31,
   "metadata": {},
   "outputs": [
    {
     "name": "stdout",
     "output_type": "stream",
     "text": [
      "Accuracy in percentage is 53.97\n"
     ]
    },
    {
     "name": "stderr",
     "output_type": "stream",
     "text": [
      "c:\\users\\asus\\appdata\\local\\programs\\python\\python36\\lib\\site-packages\\sklearn\\utils\\validation.py:63: DataConversionWarning: A column-vector y was passed when a 1d array was expected. Please change the shape of y to (n_samples, ), for example using ravel().\n",
      "  return f(*args, **kwargs)\n"
     ]
    }
   ],
   "source": [
    "#Building support vector machine model and evaluating score \n",
    "from sklearn import svm\n",
    "model=svm.LinearSVC(random_state=20)\n",
    "model.fit(x_train,y_train)\n",
    "predict=model.predict(x_test)\n",
    "from sklearn.metrics import accuracy_score\n",
    "score=accuracy_score(predict,y_test)*100\n",
    "print(\"Accuracy in percentage is %.2f\"%score)"
   ]
  },
  {
   "cell_type": "code",
   "execution_count": 32,
   "metadata": {},
   "outputs": [
    {
     "name": "stdout",
     "output_type": "stream",
     "text": [
      "Accuracy in percentage is 56.30\n"
     ]
    }
   ],
   "source": [
    "#Building Decision Tree classifier model and evaluating score\n",
    "from sklearn.tree import DecisionTreeClassifier\n",
    "model=DecisionTreeClassifier()\n",
    "model.fit(x_train,y_train)\n",
    "predict=model.predict(x_test)\n",
    "from sklearn.metrics import accuracy_score\n",
    "score=accuracy_score(predict,y_test)*100\n",
    "print(\"Accuracy in percentage is %.2f\"%score)"
   ]
  },
  {
   "cell_type": "code",
   "execution_count": 33,
   "metadata": {},
   "outputs": [
    {
     "name": "stdout",
     "output_type": "stream",
     "text": [
      "Accuracy in percentage is 55.84\n"
     ]
    },
    {
     "name": "stderr",
     "output_type": "stream",
     "text": [
      "c:\\users\\asus\\appdata\\local\\programs\\python\\python36\\lib\\site-packages\\ipykernel_launcher.py:4: DataConversionWarning: A column-vector y was passed when a 1d array was expected. Please change the shape of y to (n_samples,), for example using ravel().\n",
      "  after removing the cwd from sys.path.\n"
     ]
    }
   ],
   "source": [
    "#Building random forest classifier model and evaluating score\n",
    "from sklearn.ensemble import RandomForestClassifier\n",
    "model=RandomForestClassifier(n_estimators=5)\n",
    "model.fit(x_train,y_train)\n",
    "predict=model.predict(x_test)\n",
    "from sklearn.metrics import accuracy_score\n",
    "score=accuracy_score(predict,y_test)*100\n",
    "print(\"Accuracy in percentage is %.2f\"%score)"
   ]
  },
  {
   "cell_type": "code",
   "execution_count": 34,
   "metadata": {},
   "outputs": [
    {
     "name": "stdout",
     "output_type": "stream",
     "text": [
      "score 54.06\n"
     ]
    },
    {
     "name": "stderr",
     "output_type": "stream",
     "text": [
      "c:\\users\\asus\\appdata\\local\\programs\\python\\python36\\lib\\site-packages\\sklearn\\utils\\validation.py:63: DataConversionWarning: A column-vector y was passed when a 1d array was expected. Please change the shape of y to (n_samples, ), for example using ravel().\n",
      "  return f(*args, **kwargs)\n"
     ]
    }
   ],
   "source": [
    "#Building naive bayes model and evaluating score\n",
    "from sklearn.naive_bayes import GaussianNB\n",
    "model=GaussianNB()\n",
    "model.fit(x_train,y_train)\n",
    "predict=model.predict(x_test)\n",
    "from sklearn.metrics import  accuracy_score\n",
    "score=accuracy_score(predict,y_test)\n",
    "\n",
    "print('score %.2f'%(score*100))"
   ]
  },
  {
   "cell_type": "code",
   "execution_count": 43,
   "metadata": {},
   "outputs": [],
   "source": [
    "a=model.predict([[0.066667]])"
   ]
  },
  {
   "cell_type": "code",
   "execution_count": 44,
   "metadata": {},
   "outputs": [
    {
     "name": "stdout",
     "output_type": "stream",
     "text": [
      "Biden will win\n"
     ]
    }
   ],
   "source": [
    "if(a==1):\n",
    "    print(\"Trump will win\")\n",
    "else:\n",
    "    print(\"Biden will win\")"
   ]
  },
  {
   "cell_type": "code",
   "execution_count": 35,
   "metadata": {},
   "outputs": [
    {
     "ename": "ModuleNotFoundError",
     "evalue": "No module named 'sklearn.tree.DecisionTreeClassifier'",
     "output_type": "error",
     "traceback": [
      "\u001b[1;31m---------------------------------------------------------------------------\u001b[0m",
      "\u001b[1;31mModuleNotFoundError\u001b[0m                       Traceback (most recent call last)",
      "\u001b[1;32m<ipython-input-35-6b1b5fbdbf3e>\u001b[0m in \u001b[0;36m<module>\u001b[1;34m\u001b[0m\n\u001b[1;32m----> 1\u001b[1;33m \u001b[1;32mimport\u001b[0m \u001b[0msklearn\u001b[0m\u001b[1;33m.\u001b[0m\u001b[0mtree\u001b[0m\u001b[1;33m.\u001b[0m\u001b[0mDecisionTreeClassifier\u001b[0m\u001b[1;33m\u001b[0m\u001b[0m\n\u001b[0m\u001b[0;32m      2\u001b[0m \u001b[1;32mimport\u001b[0m \u001b[0msklearn\u001b[0m\u001b[1;33m.\u001b[0m\u001b[0msvm\u001b[0m\u001b[1;33m.\u001b[0m\u001b[0mLinearSVC\u001b[0m\u001b[1;33m\u001b[0m\u001b[0m\n\u001b[0;32m      3\u001b[0m \u001b[1;32mimport\u001b[0m \u001b[0msklearn\u001b[0m\u001b[1;33m.\u001b[0m\u001b[0mensemble\u001b[0m\u001b[1;33m.\u001b[0m\u001b[0mGradientBoostingClassifier\u001b[0m\u001b[1;33m\u001b[0m\u001b[0m\n\u001b[0;32m      4\u001b[0m \u001b[1;32mimport\u001b[0m \u001b[0msklearn\u001b[0m\u001b[1;33m.\u001b[0m\u001b[0mensemble\u001b[0m\u001b[1;33m.\u001b[0m\u001b[0mRandomForestClassifier\u001b[0m\u001b[1;33m\u001b[0m\u001b[0m\n\u001b[0;32m      5\u001b[0m \u001b[1;32mimport\u001b[0m \u001b[0msklearn\u001b[0m\u001b[1;33m.\u001b[0m\u001b[0mnaive_bayes\u001b[0m\u001b[1;33m.\u001b[0m\u001b[0mGaussianNB\u001b[0m\u001b[1;33m\u001b[0m\u001b[0m\n",
      "\u001b[1;31mModuleNotFoundError\u001b[0m: No module named 'sklearn.tree.DecisionTreeClassifier'"
     ]
    }
   ],
   "source": [
    "import sklearn.tree.DecisionTreeClassifier\n",
    "import sklearn.svm.LinearSVC\n",
    "import sklearn.ensemble.GradientBoostingClassifier\n",
    "import sklearn.ensemble.RandomForestClassifier\n",
    "import sklearn.naive_bayes.GaussianNB\n",
    "import sklearn.neighbors.KNeighborsClassifier\n",
    "import xgboost.XGBClassifier\n",
    "from sklearn.linear_model import LinearRegression\n",
    "from sklearn.tree import DecisionTreeRegressor\n",
    "from sklearn.svm import SVR"
   ]
  }
 ],
 "metadata": {
  "kernelspec": {
   "display_name": "Python 3",
   "language": "python",
   "name": "python3"
  },
  "language_info": {
   "codemirror_mode": {
    "name": "ipython",
    "version": 3
   },
   "file_extension": ".py",
   "mimetype": "text/x-python",
   "name": "python",
   "nbconvert_exporter": "python",
   "pygments_lexer": "ipython3",
   "version": "3.6.5"
  }
 },
 "nbformat": 4,
 "nbformat_minor": 4
}
